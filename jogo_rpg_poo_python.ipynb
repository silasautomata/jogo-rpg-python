{
  "nbformat": 4,
  "nbformat_minor": 0,
  "metadata": {
    "colab": {
      "provenance": [],
      "authorship_tag": "ABX9TyNY1+RDQ7Q7Xr1mCuzHHL2i",
      "include_colab_link": true
    },
    "kernelspec": {
      "name": "python3",
      "display_name": "Python 3"
    },
    "language_info": {
      "name": "python"
    }
  },
  "cells": [
    {
      "cell_type": "markdown",
      "metadata": {
        "id": "view-in-github",
        "colab_type": "text"
      },
      "source": [
        "<a href=\"https://colab.research.google.com/github/silasautomata/jogo-rpg-python/blob/main/jogo_rpg_poo_python.ipynb\" target=\"_parent\"><img src=\"https://colab.research.google.com/assets/colab-badge.svg\" alt=\"Open In Colab\"/></a>"
      ]
    },
    {
      "cell_type": "code",
      "execution_count": null,
      "metadata": {
        "id": "1YG4VpVEB_7z"
      },
      "outputs": [],
      "source": [
        "from random import randint\n",
        "\n",
        "lista_npcs = []\n",
        "\n",
        "player = {\n",
        "    'nome': 'gulherme',\n",
        "    'level': 1,\n",
        "    'exp': 0,\n",
        "    'exp_max': 30,\n",
        "    'hp': 100,\n",
        "    'hp_max': 100,\n",
        "    'dano': 25,\n",
        "}\n",
        "\n",
        "def criar_npc(level):\n",
        "\n",
        "\n",
        "    novo_npc = {\n",
        "        'nome': f'monstro #{level}',\n",
        "        'level': level,\n",
        "        'dano': 5 * level,\n",
        "        'hp': 100 * level,\n",
        "        'hp_max': 100 *  level,\n",
        "        'exp': 7 * level,\n",
        "\n",
        "    }\n",
        "\n",
        "    return novo_npc\n",
        "\n",
        "def gerar_npcs(n_npcs):\n",
        "    for x in range(n_npcs):\n",
        "        npc = criar_npc( x + 1)\n",
        "        lista_npcs.append(npc)\n",
        "\n",
        "def exibir_npcs():\n",
        "    for npc in lista_npcs:\n",
        "        exibir_npc(npc)\n",
        "\n",
        "def exibir_npc(npc):\n",
        "    print(f\"nome {npc['nome']} // level:{npc['level']} // dano {npc['dano']} // hp:{npc['hp']} // exp {npc['exp']}\" )\n",
        "\n",
        "def exibir_player():\n",
        "    print(\n",
        "        f'Nome: {player['nome']} // Level: {player['level']} // Dano: {player['dano']} // HP: {player['hp']}/{player['hp_max']} // EXP: {player['exp']}/{player['exp_max']}'\n",
        "    )\n",
        "\n",
        "def reset_player():\n",
        "    player['hp'] = player['hp_max']\n",
        "\n",
        "def reset_npc(npc):\n",
        "    npc['hp'] = npc['hp_max']\n",
        "\n",
        "def level_up():\n",
        "    if player['exp'] >= player['exp_max']:\n",
        "        player['level'] += 1\n",
        "        player['exp'] = 0\n",
        "        player['exp_max'] = player['exp_max'] * 2\n",
        "        player['hp_max'] +=20\n",
        "\n",
        "def iniciar_batalha(npc):\n",
        "    while player['hp'] > 0 and npc ['hp'] > 0:\n",
        "        atacar_npc(npc)\n",
        "        atacar_player(npc)\n",
        "        exibir_info_batalha(npc)\n",
        "\n",
        "    if player['hp'] > 0:\n",
        "        print(f'o {player['nome']} venceu e ganhou {npc['exp']} de exp')\n",
        "        player['exp'] += npc['exp']\n",
        "        exibir_player()\n",
        "    else:\n",
        "        print(f'o {npc['nome']} venceu ')\n",
        "        exibir_npc(npc)\n",
        "\n",
        "    level_up()\n",
        "    reset_player()\n",
        "    reset_npc(npc)\n",
        "\n",
        "def atacar_npc(npc):\n",
        "    npc['hp'] -= player['dano']\n",
        "\n",
        "def atacar_player(npc):\n",
        "    player['hp'] -= npc['dano']\n",
        "\n",
        "def exibir_info_batalha(npc):\n",
        "    print(f'player {player['hp']}/{player['hp_max']}')\n",
        "    print(f'npc {npc['nome']}/ {npc['hp_max']}')\n",
        "    print('------------------------')\n",
        "\n",
        "gerar_npcs(5)\n",
        "\n",
        "npc_selecionado = lista_npcs[0]\n",
        "iniciar_batalha(npc_selecionado)\n",
        "iniciar_batalha(npc_selecionado)\n",
        "iniciar_batalha(npc_selecionado)\n",
        "iniciar_batalha(npc_selecionado)\n",
        "iniciar_batalha(npc_selecionado)\n",
        "\n",
        "\n",
        "''' creditos au canal programador python\n",
        "'''\n"
      ]
    },
    {
      "cell_type": "markdown",
      "source": [
        "\n",
        "Este projeto é um simulador de batalha de RPG baseado em texto, implementado em Python. Ele permite que um jogador enfrente uma série de NPCs (personagens não-jogáveis) em combates individuais. O jogador e os NPCs possuem atributos como nome, nível, pontos de vida (HP), dano e experiência (EXP)."
      ],
      "metadata": {
        "id": "02CAzI8aCHUE"
      }
    }
  ]
}